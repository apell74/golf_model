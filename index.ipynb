{
 "cells": [
  {
   "cell_type": "markdown",
   "id": "87f6fb92",
   "metadata": {},
   "source": [
    "# Golf Model"
   ]
  },
  {
   "cell_type": "code",
   "execution_count": 9,
   "id": "80570cd9",
   "metadata": {},
   "outputs": [],
   "source": [
    "import requests\n",
    "import csv\n",
    "from datetime import datetime\n",
    "import pandas as pd"
   ]
  },
  {
   "cell_type": "code",
   "execution_count": 10,
   "id": "6b616a9d",
   "metadata": {},
   "outputs": [],
   "source": [
    "base_url = \"https://feeds.datagolf.com/historical-raw-data/rounds\"\n",
    "\n",
    "api_key = \"8742e1e287f26df6a7ecedb8087c\""
   ]
  },
  {
   "cell_type": "code",
   "execution_count": 11,
   "id": "ad206748",
   "metadata": {},
   "outputs": [],
   "source": [
    "def get_golf_stats(tour, event_id, year, api_key):\n",
    "    params = {\n",
    "        'tour': tour,\n",
    "        'event_id': event_id,\n",
    "        'year': year,\n",
    "        'file_format': 'json',\n",
    "        'key': api_key\n",
    "    }\n",
    "    response = requests.get(base_url, params=params)\n",
    "    \n",
    "    # Check if the request was successful\n",
    "    if response.status_code == 200:\n",
    "        return response.json()\n",
    "    else:\n",
    "        print(f\"Failed to fetch data: {response.status_code}\")\n",
    "        return None\n",
    "\n",
    "# Define years of interest\n",
    "years_of_interest = range(2019, datetime.now().year + 1)\n",
    "\n",
    "# Specify the event_id for the U.S. Open or other major tournaments\n",
    "event_ids = {'U.S. Open': '535'}  # Add other event IDs as needed"
   ]
  },
  {
   "cell_type": "code",
   "execution_count": 14,
   "id": "ace4c9d1",
   "metadata": {},
   "outputs": [
    {
     "name": "stdout",
     "output_type": "stream",
     "text": [
      "mkdir: /mnt: Read-only file system\r\n"
     ]
    }
   ],
   "source": [
    "!mkdir -p /mnt/data"
   ]
  },
  {
   "cell_type": "code",
   "execution_count": 15,
   "id": "7bb72190",
   "metadata": {},
   "outputs": [
    {
     "name": "stdout",
     "output_type": "stream",
     "text": [
      "ls: /mnt/data: No such file or directory\r\n"
     ]
    }
   ],
   "source": [
    "!ls /mnt/data"
   ]
  },
  {
   "cell_type": "code",
   "execution_count": 12,
   "id": "c3ea2101",
   "metadata": {},
   "outputs": [
    {
     "ename": "FileNotFoundError",
     "evalue": "[Errno 2] No such file or directory: '/mnt/data/golf_data.csv'",
     "output_type": "error",
     "traceback": [
      "\u001b[0;31m---------------------------------------------------------------------------\u001b[0m",
      "\u001b[0;31mFileNotFoundError\u001b[0m                         Traceback (most recent call last)",
      "Input \u001b[0;32mIn [12]\u001b[0m, in \u001b[0;36m<cell line: 2>\u001b[0;34m()\u001b[0m\n\u001b[1;32m      1\u001b[0m \u001b[38;5;66;03m# Create a file to store the CSV data\u001b[39;00m\n\u001b[0;32m----> 2\u001b[0m \u001b[38;5;28;01mwith\u001b[39;00m \u001b[38;5;28;43mopen\u001b[39;49m\u001b[43m(\u001b[49m\u001b[38;5;124;43m'\u001b[39;49m\u001b[38;5;124;43m/mnt/data/golf_data.csv\u001b[39;49m\u001b[38;5;124;43m'\u001b[39;49m\u001b[43m,\u001b[49m\u001b[43m \u001b[49m\u001b[38;5;124;43m'\u001b[39;49m\u001b[38;5;124;43mw\u001b[39;49m\u001b[38;5;124;43m'\u001b[39;49m\u001b[43m,\u001b[49m\u001b[43m \u001b[49m\u001b[43mnewline\u001b[49m\u001b[38;5;241;43m=\u001b[39;49m\u001b[38;5;124;43m'\u001b[39;49m\u001b[38;5;124;43m'\u001b[39;49m\u001b[43m)\u001b[49m \u001b[38;5;28;01mas\u001b[39;00m file:\n\u001b[1;32m      3\u001b[0m     writer \u001b[38;5;241m=\u001b[39m csv\u001b[38;5;241m.\u001b[39mwriter(file)\n\u001b[1;32m      5\u001b[0m     \u001b[38;5;66;03m# Write the header row\u001b[39;00m\n",
      "\u001b[0;31mFileNotFoundError\u001b[0m: [Errno 2] No such file or directory: '/mnt/data/golf_data.csv'"
     ]
    }
   ],
   "source": [
    "# Create a file to store the CSV data\n",
    "with open('/mnt/data/golf_data.csv', 'w', newline='') as file:\n",
    "    writer = csv.writer(file)\n",
    "\n",
    "    # Write the header row\n",
    "    writer.writerow(['Year', 'Event ID', 'Event Name', 'Player Name', 'Round', 'Score', 'SG Total', 'Driving Distance', 'GIR', 'Scrambling'])\n",
    "\n",
    "    # Iterate over each year and event\n",
    "    for year in years_of_interest:\n",
    "        for event_name, event_id in event_ids.items():\n",
    "            # Get the stats for the event\n",
    "            stats = get_golf_stats('pga', event_id, year, api_key)\n",
    "            \n",
    "            # Check if stats is not None\n",
    "            if stats:\n",
    "                # Process and write data to CSV\n",
    "                for player in stats['scores']:\n",
    "                    for round_number, round_data in player.items():\n",
    "                        if round_number.startswith('round_'):\n",
    "                            writer.writerow([\n",
    "                                year,\n",
    "                                event_id,\n",
    "                                event_name,\n",
    "                                player['player_name'],\n",
    "                                round_number[-1],  # This gets the round number (e.g., '1' from 'round_1')\n",
    "                                round_data['score'],\n",
    "                                round_data['sg_total'],\n",
    "                                round_data['driving_dist'],\n",
    "                                round_data['gir'],\n",
    "                                round_data['scrambling']\n",
    "                            ])\n",
    "\n",
    "print(\"Data collection complete. CSV file created.\")"
   ]
  },
  {
   "cell_type": "code",
   "execution_count": null,
   "id": "db6f82eb",
   "metadata": {},
   "outputs": [],
   "source": [
    "\n",
    "\n",
    "# Specify the path to the CSV file\n",
    "csv_file_path = '/mnt/data/golf_data.csv'\n",
    "\n",
    "# Now, read the CSV file into a DataFrame\n",
    "golf_data_df = pd.read_csv(csv_file_path)\n",
    "\n",
    "# Show the first few rows of the DataFrame\n",
    "print(golf_data_df.head())"
   ]
  },
  {
   "cell_type": "code",
   "execution_count": null,
   "id": "98df2129",
   "metadata": {},
   "outputs": [],
   "source": []
  },
  {
   "cell_type": "code",
   "execution_count": null,
   "id": "acb7b39d",
   "metadata": {},
   "outputs": [],
   "source": []
  },
  {
   "cell_type": "code",
   "execution_count": null,
   "id": "e864852a",
   "metadata": {},
   "outputs": [],
   "source": []
  },
  {
   "cell_type": "code",
   "execution_count": null,
   "id": "e8d29cdd",
   "metadata": {},
   "outputs": [],
   "source": []
  },
  {
   "cell_type": "code",
   "execution_count": null,
   "id": "55ac1173",
   "metadata": {},
   "outputs": [],
   "source": []
  },
  {
   "cell_type": "code",
   "execution_count": null,
   "id": "22c8a5ce",
   "metadata": {},
   "outputs": [],
   "source": []
  },
  {
   "cell_type": "code",
   "execution_count": null,
   "id": "7b383a7f",
   "metadata": {},
   "outputs": [],
   "source": []
  },
  {
   "cell_type": "code",
   "execution_count": null,
   "id": "89734877",
   "metadata": {},
   "outputs": [],
   "source": []
  }
 ],
 "metadata": {
  "kernelspec": {
   "display_name": "Python 3 (ipykernel)",
   "language": "python",
   "name": "python3"
  },
  "language_info": {
   "codemirror_mode": {
    "name": "ipython",
    "version": 3
   },
   "file_extension": ".py",
   "mimetype": "text/x-python",
   "name": "python",
   "nbconvert_exporter": "python",
   "pygments_lexer": "ipython3",
   "version": "3.9.13"
  }
 },
 "nbformat": 4,
 "nbformat_minor": 5
}
