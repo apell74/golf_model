{
 "cells": [
  {
   "cell_type": "markdown",
   "id": "c9dc76b2",
   "metadata": {},
   "source": [
    "# Golf Model"
   ]
  },
  {
   "cell_type": "code",
   "execution_count": 1,
   "id": "fd9f6b9e",
   "metadata": {},
   "outputs": [],
   "source": [
    "import requests\n",
    "import csv\n",
    "from datetime import datetime"
   ]
  },
  {
   "cell_type": "code",
   "execution_count": null,
   "id": "2221a1d3",
   "metadata": {},
   "outputs": [],
   "source": [
    "base_url = \"https://feeds.datagolf.com/historical-raw-data/rounds\"\n",
    "\n",
    "api_key = \"8742e1e287f26df6a7ecedb8087c\""
   ]
  },
  {
   "cell_type": "code",
   "execution_count": null,
   "id": "ff33fb20",
   "metadata": {},
   "outputs": [],
   "source": [
    "def get_golf_stats(tour, event_id, year, api_key):\n",
    "    params = {\n",
    "        'tour': tour,\n",
    "        'event_id': event_id,\n",
    "        'year': year,\n",
    "        'file_format': 'json',\n",
    "        'key': api_key\n",
    "    }\n",
    "    response = requests.get(base_url, params=params)\n",
    "    \n",
    "    # Check if the request was successful\n",
    "    if response.status_code == 200:\n",
    "        return response.json()\n",
    "    else:\n",
    "        print(f\"Failed to fetch data: {response.status_code}\")\n",
    "        return None\n",
    "\n",
    "# Define years of interest\n",
    "years_of_interest = range(2019, datetime.now().year + 1)\n",
    "\n",
    "# Specify the event_id for the U.S. Open or other major tournaments\n",
    "event_ids = {'U.S. Open': '535'}  # Add other event IDs as needed\n",
    "\n",
    "# Create a file to store the CSV data\n",
    "with open('/mnt/data/golf_data.csv', 'w', newline='') as file:\n",
    "    writer = csv.writer(file)\n",
    "\n",
    "    # Write the header row\n",
    "    writer.writerow(['Year', 'Event ID', 'Event Name', 'Player Name', 'Round', 'Score', 'SG Total', 'Driving Distance', 'GIR', 'Scrambling'])\n",
    "\n",
    "    # Iterate over each year and event\n",
    "    for year in years_of_interest:\n",
    "        for event_name, event_id in event_ids.items():\n",
    "            # Get the stats for the event\n",
    "            stats = get_golf_stats('pga', event_id, year, api_key)\n",
    "            \n",
    "            # Check if stats is not None\n",
    "            if stats:\n",
    "                # Process and write data to CSV\n",
    "                for player in stats['scores']:\n",
    "                    for round_number, round_data in player.items():\n",
    "                        if round_number.startswith('round_'):\n",
    "                            writer.writerow([\n",
    "                                year,\n",
    "                                event_id,\n",
    "                                event_name,\n",
    "                                player['player_name'],\n",
    "                                round_number[-1],  # This gets the round number (e.g., '1' from 'round_1')\n",
    "                                round_data['score'],\n",
    "                                round_data['sg_total'],\n",
    "                                round_data['driving_dist'],\n",
    "                                round_data['gir'],\n",
    "                                round_data['scrambling']\n",
    "                            ])\n",
    "\n",
    "print(\"Data collection complete. CSV file created.\")"
   ]
  },
  {
   "cell_type": "code",
   "execution_count": null,
   "id": "d2eb393f",
   "metadata": {},
   "outputs": [],
   "source": []
  },
  {
   "cell_type": "code",
   "execution_count": null,
   "id": "b6e1e666",
   "metadata": {},
   "outputs": [],
   "source": []
  },
  {
   "cell_type": "code",
   "execution_count": null,
   "id": "ceb44f5f",
   "metadata": {},
   "outputs": [],
   "source": []
  },
  {
   "cell_type": "code",
   "execution_count": null,
   "id": "9c0e2f8c",
   "metadata": {},
   "outputs": [],
   "source": []
  },
  {
   "cell_type": "code",
   "execution_count": null,
   "id": "83cab05b",
   "metadata": {},
   "outputs": [],
   "source": []
  },
  {
   "cell_type": "code",
   "execution_count": null,
   "id": "8d11eac5",
   "metadata": {},
   "outputs": [],
   "source": []
  },
  {
   "cell_type": "code",
   "execution_count": null,
   "id": "a400948c",
   "metadata": {},
   "outputs": [],
   "source": []
  },
  {
   "cell_type": "code",
   "execution_count": null,
   "id": "3370d6b7",
   "metadata": {},
   "outputs": [],
   "source": []
  },
  {
   "cell_type": "code",
   "execution_count": null,
   "id": "4d120897",
   "metadata": {},
   "outputs": [],
   "source": []
  }
 ],
 "metadata": {
  "kernelspec": {
   "display_name": "Python 3 (ipykernel)",
   "language": "python",
   "name": "python3"
  },
  "language_info": {
   "codemirror_mode": {
    "name": "ipython",
    "version": 3
   },
   "file_extension": ".py",
   "mimetype": "text/x-python",
   "name": "python",
   "nbconvert_exporter": "python",
   "pygments_lexer": "ipython3",
   "version": "3.9.13"
  }
 },
 "nbformat": 4,
 "nbformat_minor": 5
}
